{
 "cells": [
  {
   "cell_type": "code",
   "execution_count": 50,
   "metadata": {
    "scrolled": true
   },
   "outputs": [],
   "source": [
    "import MySQLdb\n",
    "import pandas as pd\n",
    "import matplotlib as plt\n",
    "import seaborn as sns\n",
    "sns.set()"
   ]
  },
  {
   "cell_type": "code",
   "execution_count": 2,
   "metadata": {},
   "outputs": [],
   "source": [
    "con = MySQLdb.connect(host='relational.fit.cvut.cz', user='guest', passwd='relational', db='imdb_ijs', port=3306 )\n",
    "cur = con.cursor()"
   ]
  },
  {
   "cell_type": "markdown",
   "metadata": {},
   "source": [
    "## Exploração e Seleção dos Dados"
   ]
  },
  {
   "cell_type": "code",
   "execution_count": 3,
   "metadata": {},
   "outputs": [],
   "source": [
    "# Atores e filmes ao qual atuaram\n",
    "atores = cur.execute(\"select roles.movie_id, concat(actors.first_name, ' ' ,actors.last_name)  from actors inner join roles on roles.actor_id = actors.id order by roles.movie_id;\")\n",
    "atores = pd.DataFrame(cur.fetchall(), columns=['movie_id', 'atores'])\n",
    "atores = atores.groupby('movie_id').agg(lambda x: x.tolist())"
   ]
  },
  {
   "cell_type": "code",
   "execution_count": 4,
   "metadata": {},
   "outputs": [],
   "source": [
    "# Diretores e os filmes produzidos\n",
    "diretores = cur.execute(\"select movies.id, concat(directors.first_name, ' ' ,directors.last_name)  from movies inner join movies_directors mg on mg.movie_id = movies.id inner join directors on mg.director_id = directors.id;\")\n",
    "diretores = pd.DataFrame(cur.fetchall(), columns=['movie_id','diretores'])\n",
    "diretores = diretores.groupby('movie_id').agg(lambda x: x.tolist())"
   ]
  },
  {
   "cell_type": "code",
   "execution_count": 5,
   "metadata": {},
   "outputs": [],
   "source": [
    "# Filmes e os respectivos generos\n",
    "generos = cur.execute(\"SELECT movies.id, movies.year, (SELECT  GROUP_CONCAT(genre SEPARATOR ', ') FROM imdb_ijs.movies_genres mvg WHERE mvg.movie_id = movies.id) AS Generos, movies.rank AS Imdb FROM movies where (movies.rank is not null) ORDER BY movies.id;\")\n",
    "generos = pd.DataFrame(cur.fetchall(), columns=['movie_id','ano','genero', 'rating'])\n",
    "generos = generos.groupby('movie_id').agg(lambda x: x.tolist())"
   ]
  },
  {
   "cell_type": "code",
   "execution_count": 6,
   "metadata": {},
   "outputs": [],
   "source": [
    "import ast\n",
    "\n",
    "edit = generos['genero'].astype(str)\n",
    "edit = edit.map(lambda x: x.replace(',', '\\',\\'').replace(' ', ''))\n",
    "edit = pd.DataFrame(edit)\n",
    "edit = edit.genero.apply(lambda x: list(ast.literal_eval(x)))\n",
    "\n",
    "all_genders = pd.get_dummies(edit.apply(pd.Series).stack()).sum(level=0)"
   ]
  },
  {
   "cell_type": "markdown",
   "metadata": {},
   "source": [
    "#### Tratando dados Nulos"
   ]
  },
  {
   "cell_type": "code",
   "execution_count": 7,
   "metadata": {},
   "outputs": [],
   "source": [
    "generos = generos.dropna()\n",
    "atores = atores.dropna()\n",
    "diretores = diretores.dropna()"
   ]
  },
  {
   "cell_type": "code",
   "execution_count": 8,
   "metadata": {},
   "outputs": [],
   "source": [
    "test = pd.merge(diretores, atores, on='movie_id')\n",
    "test = test.groupby('movie_id').agg(lambda x: x.tolist())\n",
    "test = pd.merge(test, generos, on='movie_id')\n",
    "test = test.groupby('movie_id').agg(lambda x: x.tolist())"
   ]
  },
  {
   "cell_type": "code",
   "execution_count": 9,
   "metadata": {},
   "outputs": [],
   "source": [
    "#print(test)"
   ]
  },
  {
   "cell_type": "code",
   "execution_count": 10,
   "metadata": {},
   "outputs": [],
   "source": [
    "movies_scores = test.dropna()\n",
    "aux = movies_scores\n",
    "aux = aux.dropna()\n",
    "\n",
    "dt = aux.drop(['diretores', 'atores', 'genero'], axis = 1)\n",
    "#print(dt)"
   ]
  },
  {
   "cell_type": "code",
   "execution_count": 11,
   "metadata": {},
   "outputs": [],
   "source": [
    "dt.rating = dt.rating.astype(str)\n",
    "dt.ano = dt.ano.astype(str)\n",
    "dt.rating = dt.rating.map(lambda x: x.lstrip('[').rstrip(']'))\n",
    "dt.ano = dt.ano.map(lambda x: x.lstrip('[').rstrip(']'))\n",
    "\n",
    "dt = pd.merge(dt, all_genders, on='movie_id')\n",
    "save_dt = dt.dropna()\n"
   ]
  },
  {
   "cell_type": "code",
   "execution_count": 12,
   "metadata": {},
   "outputs": [
    {
     "data": {
      "text/html": [
       "<div>\n",
       "<style scoped>\n",
       "    .dataframe tbody tr th:only-of-type {\n",
       "        vertical-align: middle;\n",
       "    }\n",
       "\n",
       "    .dataframe tbody tr th {\n",
       "        vertical-align: top;\n",
       "    }\n",
       "\n",
       "    .dataframe thead th {\n",
       "        text-align: right;\n",
       "    }\n",
       "</style>\n",
       "<table border=\"1\" class=\"dataframe\">\n",
       "  <thead>\n",
       "    <tr style=\"text-align: right;\">\n",
       "      <th></th>\n",
       "      <th>ano</th>\n",
       "      <th>rating</th>\n",
       "      <th>Action</th>\n",
       "      <th>Adult</th>\n",
       "      <th>Adventure</th>\n",
       "      <th>Animation</th>\n",
       "      <th>Comedy</th>\n",
       "      <th>Crime</th>\n",
       "      <th>Documentary</th>\n",
       "      <th>Drama</th>\n",
       "      <th>...</th>\n",
       "      <th>Horror</th>\n",
       "      <th>Music</th>\n",
       "      <th>Musical</th>\n",
       "      <th>Mystery</th>\n",
       "      <th>Romance</th>\n",
       "      <th>Sci-Fi</th>\n",
       "      <th>Short</th>\n",
       "      <th>Thriller</th>\n",
       "      <th>War</th>\n",
       "      <th>Western</th>\n",
       "    </tr>\n",
       "    <tr>\n",
       "      <th>movie_id</th>\n",
       "      <th></th>\n",
       "      <th></th>\n",
       "      <th></th>\n",
       "      <th></th>\n",
       "      <th></th>\n",
       "      <th></th>\n",
       "      <th></th>\n",
       "      <th></th>\n",
       "      <th></th>\n",
       "      <th></th>\n",
       "      <th></th>\n",
       "      <th></th>\n",
       "      <th></th>\n",
       "      <th></th>\n",
       "      <th></th>\n",
       "      <th></th>\n",
       "      <th></th>\n",
       "      <th></th>\n",
       "      <th></th>\n",
       "      <th></th>\n",
       "      <th></th>\n",
       "    </tr>\n",
       "  </thead>\n",
       "  <tbody>\n",
       "    <tr>\n",
       "      <th>2</th>\n",
       "      <td>1971</td>\n",
       "      <td>6.4</td>\n",
       "      <td>0</td>\n",
       "      <td>0</td>\n",
       "      <td>0</td>\n",
       "      <td>0</td>\n",
       "      <td>1</td>\n",
       "      <td>1</td>\n",
       "      <td>0</td>\n",
       "      <td>0</td>\n",
       "      <td>...</td>\n",
       "      <td>0</td>\n",
       "      <td>0</td>\n",
       "      <td>0</td>\n",
       "      <td>0</td>\n",
       "      <td>0</td>\n",
       "      <td>0</td>\n",
       "      <td>0</td>\n",
       "      <td>0</td>\n",
       "      <td>0</td>\n",
       "      <td>0</td>\n",
       "    </tr>\n",
       "    <tr>\n",
       "      <th>6</th>\n",
       "      <td>1971</td>\n",
       "      <td>5.0</td>\n",
       "      <td>0</td>\n",
       "      <td>0</td>\n",
       "      <td>0</td>\n",
       "      <td>0</td>\n",
       "      <td>1</td>\n",
       "      <td>0</td>\n",
       "      <td>0</td>\n",
       "      <td>0</td>\n",
       "      <td>...</td>\n",
       "      <td>0</td>\n",
       "      <td>0</td>\n",
       "      <td>0</td>\n",
       "      <td>0</td>\n",
       "      <td>0</td>\n",
       "      <td>0</td>\n",
       "      <td>0</td>\n",
       "      <td>0</td>\n",
       "      <td>0</td>\n",
       "      <td>0</td>\n",
       "    </tr>\n",
       "    <tr>\n",
       "      <th>11</th>\n",
       "      <td>1939</td>\n",
       "      <td>6.7</td>\n",
       "      <td>0</td>\n",
       "      <td>0</td>\n",
       "      <td>0</td>\n",
       "      <td>0</td>\n",
       "      <td>1</td>\n",
       "      <td>0</td>\n",
       "      <td>0</td>\n",
       "      <td>0</td>\n",
       "      <td>...</td>\n",
       "      <td>0</td>\n",
       "      <td>0</td>\n",
       "      <td>0</td>\n",
       "      <td>0</td>\n",
       "      <td>0</td>\n",
       "      <td>0</td>\n",
       "      <td>0</td>\n",
       "      <td>0</td>\n",
       "      <td>0</td>\n",
       "      <td>0</td>\n",
       "    </tr>\n",
       "    <tr>\n",
       "      <th>15</th>\n",
       "      <td>1999</td>\n",
       "      <td>7.5</td>\n",
       "      <td>0</td>\n",
       "      <td>0</td>\n",
       "      <td>0</td>\n",
       "      <td>0</td>\n",
       "      <td>1</td>\n",
       "      <td>0</td>\n",
       "      <td>0</td>\n",
       "      <td>0</td>\n",
       "      <td>...</td>\n",
       "      <td>0</td>\n",
       "      <td>0</td>\n",
       "      <td>0</td>\n",
       "      <td>0</td>\n",
       "      <td>0</td>\n",
       "      <td>0</td>\n",
       "      <td>1</td>\n",
       "      <td>0</td>\n",
       "      <td>0</td>\n",
       "      <td>0</td>\n",
       "    </tr>\n",
       "    <tr>\n",
       "      <th>18</th>\n",
       "      <td>1996</td>\n",
       "      <td>9.6</td>\n",
       "      <td>0</td>\n",
       "      <td>0</td>\n",
       "      <td>0</td>\n",
       "      <td>0</td>\n",
       "      <td>1</td>\n",
       "      <td>0</td>\n",
       "      <td>0</td>\n",
       "      <td>0</td>\n",
       "      <td>...</td>\n",
       "      <td>0</td>\n",
       "      <td>0</td>\n",
       "      <td>0</td>\n",
       "      <td>0</td>\n",
       "      <td>0</td>\n",
       "      <td>0</td>\n",
       "      <td>0</td>\n",
       "      <td>0</td>\n",
       "      <td>0</td>\n",
       "      <td>0</td>\n",
       "    </tr>\n",
       "    <tr>\n",
       "      <th>...</th>\n",
       "      <td>...</td>\n",
       "      <td>...</td>\n",
       "      <td>...</td>\n",
       "      <td>...</td>\n",
       "      <td>...</td>\n",
       "      <td>...</td>\n",
       "      <td>...</td>\n",
       "      <td>...</td>\n",
       "      <td>...</td>\n",
       "      <td>...</td>\n",
       "      <td>...</td>\n",
       "      <td>...</td>\n",
       "      <td>...</td>\n",
       "      <td>...</td>\n",
       "      <td>...</td>\n",
       "      <td>...</td>\n",
       "      <td>...</td>\n",
       "      <td>...</td>\n",
       "      <td>...</td>\n",
       "      <td>...</td>\n",
       "      <td>...</td>\n",
       "    </tr>\n",
       "    <tr>\n",
       "      <th>378550</th>\n",
       "      <td>2000</td>\n",
       "      <td>7.0</td>\n",
       "      <td>0</td>\n",
       "      <td>0</td>\n",
       "      <td>0</td>\n",
       "      <td>0</td>\n",
       "      <td>1</td>\n",
       "      <td>1</td>\n",
       "      <td>0</td>\n",
       "      <td>1</td>\n",
       "      <td>...</td>\n",
       "      <td>0</td>\n",
       "      <td>0</td>\n",
       "      <td>0</td>\n",
       "      <td>0</td>\n",
       "      <td>0</td>\n",
       "      <td>0</td>\n",
       "      <td>0</td>\n",
       "      <td>0</td>\n",
       "      <td>0</td>\n",
       "      <td>0</td>\n",
       "    </tr>\n",
       "    <tr>\n",
       "      <th>378558</th>\n",
       "      <td>1989</td>\n",
       "      <td>6.9</td>\n",
       "      <td>0</td>\n",
       "      <td>0</td>\n",
       "      <td>0</td>\n",
       "      <td>0</td>\n",
       "      <td>0</td>\n",
       "      <td>0</td>\n",
       "      <td>1</td>\n",
       "      <td>0</td>\n",
       "      <td>...</td>\n",
       "      <td>0</td>\n",
       "      <td>0</td>\n",
       "      <td>0</td>\n",
       "      <td>0</td>\n",
       "      <td>0</td>\n",
       "      <td>0</td>\n",
       "      <td>0</td>\n",
       "      <td>0</td>\n",
       "      <td>0</td>\n",
       "      <td>0</td>\n",
       "    </tr>\n",
       "    <tr>\n",
       "      <th>378583</th>\n",
       "      <td>2001</td>\n",
       "      <td>8.7</td>\n",
       "      <td>0</td>\n",
       "      <td>0</td>\n",
       "      <td>0</td>\n",
       "      <td>0</td>\n",
       "      <td>1</td>\n",
       "      <td>0</td>\n",
       "      <td>0</td>\n",
       "      <td>0</td>\n",
       "      <td>...</td>\n",
       "      <td>0</td>\n",
       "      <td>0</td>\n",
       "      <td>0</td>\n",
       "      <td>0</td>\n",
       "      <td>0</td>\n",
       "      <td>0</td>\n",
       "      <td>0</td>\n",
       "      <td>0</td>\n",
       "      <td>0</td>\n",
       "      <td>0</td>\n",
       "    </tr>\n",
       "    <tr>\n",
       "      <th>378610</th>\n",
       "      <td>1999</td>\n",
       "      <td>7.0</td>\n",
       "      <td>0</td>\n",
       "      <td>0</td>\n",
       "      <td>0</td>\n",
       "      <td>0</td>\n",
       "      <td>0</td>\n",
       "      <td>0</td>\n",
       "      <td>0</td>\n",
       "      <td>1</td>\n",
       "      <td>...</td>\n",
       "      <td>0</td>\n",
       "      <td>0</td>\n",
       "      <td>0</td>\n",
       "      <td>0</td>\n",
       "      <td>0</td>\n",
       "      <td>0</td>\n",
       "      <td>0</td>\n",
       "      <td>0</td>\n",
       "      <td>0</td>\n",
       "      <td>0</td>\n",
       "    </tr>\n",
       "    <tr>\n",
       "      <th>378614</th>\n",
       "      <td>1998</td>\n",
       "      <td>6.3</td>\n",
       "      <td>0</td>\n",
       "      <td>0</td>\n",
       "      <td>0</td>\n",
       "      <td>0</td>\n",
       "      <td>1</td>\n",
       "      <td>0</td>\n",
       "      <td>0</td>\n",
       "      <td>0</td>\n",
       "      <td>...</td>\n",
       "      <td>0</td>\n",
       "      <td>0</td>\n",
       "      <td>0</td>\n",
       "      <td>0</td>\n",
       "      <td>0</td>\n",
       "      <td>0</td>\n",
       "      <td>0</td>\n",
       "      <td>0</td>\n",
       "      <td>0</td>\n",
       "      <td>0</td>\n",
       "    </tr>\n",
       "  </tbody>\n",
       "</table>\n",
       "<p>55790 rows × 23 columns</p>\n",
       "</div>"
      ],
      "text/plain": [
       "           ano rating  Action  Adult  Adventure  Animation  Comedy  Crime  \\\n",
       "movie_id                                                                    \n",
       "2         1971    6.4       0      0          0          0       1      1   \n",
       "6         1971    5.0       0      0          0          0       1      0   \n",
       "11        1939    6.7       0      0          0          0       1      0   \n",
       "15        1999    7.5       0      0          0          0       1      0   \n",
       "18        1996    9.6       0      0          0          0       1      0   \n",
       "...        ...    ...     ...    ...        ...        ...     ...    ...   \n",
       "378550    2000    7.0       0      0          0          0       1      1   \n",
       "378558    1989    6.9       0      0          0          0       0      0   \n",
       "378583    2001    8.7       0      0          0          0       1      0   \n",
       "378610    1999    7.0       0      0          0          0       0      0   \n",
       "378614    1998    6.3       0      0          0          0       1      0   \n",
       "\n",
       "          Documentary  Drama  ...  Horror  Music  Musical  Mystery  Romance  \\\n",
       "movie_id                      ...                                             \n",
       "2                   0      0  ...       0      0        0        0        0   \n",
       "6                   0      0  ...       0      0        0        0        0   \n",
       "11                  0      0  ...       0      0        0        0        0   \n",
       "15                  0      0  ...       0      0        0        0        0   \n",
       "18                  0      0  ...       0      0        0        0        0   \n",
       "...               ...    ...  ...     ...    ...      ...      ...      ...   \n",
       "378550              0      1  ...       0      0        0        0        0   \n",
       "378558              1      0  ...       0      0        0        0        0   \n",
       "378583              0      0  ...       0      0        0        0        0   \n",
       "378610              0      1  ...       0      0        0        0        0   \n",
       "378614              0      0  ...       0      0        0        0        0   \n",
       "\n",
       "          Sci-Fi  Short  Thriller  War  Western  \n",
       "movie_id                                         \n",
       "2              0      0         0    0        0  \n",
       "6              0      0         0    0        0  \n",
       "11             0      0         0    0        0  \n",
       "15             0      1         0    0        0  \n",
       "18             0      0         0    0        0  \n",
       "...          ...    ...       ...  ...      ...  \n",
       "378550         0      0         0    0        0  \n",
       "378558         0      0         0    0        0  \n",
       "378583         0      0         0    0        0  \n",
       "378610         0      0         0    0        0  \n",
       "378614         0      0         0    0        0  \n",
       "\n",
       "[55790 rows x 23 columns]"
      ]
     },
     "execution_count": 12,
     "metadata": {},
     "output_type": "execute_result"
    }
   ],
   "source": [
    "dt"
   ]
  },
  {
   "cell_type": "code",
   "execution_count": 13,
   "metadata": {},
   "outputs": [],
   "source": [
    "\n",
    "pldt = save_dt\n",
    "\n",
    "pldt.Action = pldt.Action * 1.1\n",
    "pldt.Adventure = pldt.Adventure * 2.2\n",
    "pldt.Animation = pldt.Animation * 3.3\n",
    "pldt.Comedy = pldt.Comedy * 4.4\n",
    "pldt.Crime = pldt.Crime * 5.5\n",
    "pldt.Documentary = pldt.Documentary * 6.6\n",
    "pldt.Drama = pldt.Drama * 7.7\n",
    "pldt.Horror = pldt.Horror * 8.8\n",
    "pldt.Music = pldt.Music * 9.9\n",
    "pldt.Musical = pldt.Musical * 10.0\n",
    "pldt.Mystery = pldt.Mystery * 11.1\n",
    "pldt.Romance = pldt.Romance * 12.2\n",
    "pldt['Sci-Fi'] = pldt['Sci-Fi'] * 13.3\n",
    "pldt.Short = pldt.Short * 14.4\n",
    "pldt.Thriller = pldt.Thriller * 15.5\n",
    "pldt.War = pldt.War * 16.6\n",
    "pldt.Western = pldt.Western * 17.7\n",
    "pldt.Family = pldt.Family * 2.8\n",
    "pldt.Fantasy = pldt.Fantasy * 2.9\n",
    "pldt['Film-Noir'] = pldt['Film-Noir'] * 3.0\n"
   ]
  },
  {
   "cell_type": "code",
   "execution_count": 58,
   "metadata": {},
   "outputs": [
    {
     "data": {
      "text/plain": [
       "<AxesSubplot:ylabel='Frequency'>"
      ]
     },
     "execution_count": 58,
     "metadata": {},
     "output_type": "execute_result"
    },
    {
     "data": {
      "image/png": "[encoded data removed]",
      "text/plain": [
       "<Figure size 720x576 with 1 Axes>"
      ]
     },
     "metadata": {},
     "output_type": "display_data"
    }
   ],
   "source": [
    "import numpy as np\n",
    "#pd.DataFrame.hist(dt, figsize = [15,15], bins=np.arange(0.5,1.6,0.2));\n",
    "pldt.plot(kind='hist', bins=np.arange(1,20,1), figsize = [10,8], cmap='tab20')\n",
    "\n",
    "\n"
   ]
  },
  {
   "cell_type": "code",
   "execution_count": null,
   "metadata": {},
   "outputs": [],
   "source": [
    "\n"
   ]
  },
  {
   "cell_type": "markdown",
   "metadata": {},
   "source": [
    "## Adicionando Diretores"
   ]
  },
  {
   "cell_type": "code",
   "execution_count": 15,
   "metadata": {},
   "outputs": [],
   "source": [
    "from sklearn import metrics\n",
    "\n",
    "diretores = cur.execute(\"select movies.id, concat(directors.first_name, ' ' ,directors.last_name)  from movies inner join movies_directors mg on mg.movie_id = movies.id inner join directors on mg.director_id = directors.id;\")\n",
    "diretores = pd.DataFrame(cur.fetchall(), columns=['movie_id','diretores'])\n",
    "new_diretores = pd.merge(dt, diretores, on='movie_id')\n",
    "new_diretores = new_diretores.set_index('movie_id')\n",
    "new_diretores['diretores'] = new_diretores['diretores'].astype('category')\n",
    "\n",
    "new_diretores['diretores'] = new_diretores['diretores'].cat.codes \n",
    "new_diretores = new_diretores.dropna() \n",
    "\n",
    "#new_diretores['diretores'] = new_diretores['diretores'].cat.codes \n"
   ]
  },
  {
   "cell_type": "code",
   "execution_count": 16,
   "metadata": {},
   "outputs": [],
   "source": [
    "#print(new_diretores)"
   ]
  },
  {
   "cell_type": "code",
   "execution_count": 27,
   "metadata": {},
   "outputs": [
    {
     "name": "stdout",
     "output_type": "stream",
     "text": [
      "(36376, 22)\n",
      "(36376,)\n",
      "(24252, 22)\n",
      "(24252,)\n"
     ]
    }
   ],
   "source": [
    "from sklearn.model_selection import train_test_split\n",
    "\n",
    "X_train,X_test,y_train,y_test=train_test_split(new_diretores.drop(['rating'], axis=1),new_diretores.rating,random_state=0,test_size=0.40)\n",
    "print (X_train.shape) \n",
    "print (y_train.shape) \n",
    "print (X_test.shape) \n",
    "print (y_test.shape)\n",
    "\n",
    "\n",
    "## Convertendo para números reais\n",
    "X_train = X_train.astype(float)\n",
    "X_test = X_test.astype(float)\n",
    "y_train = y_train.astype(float)\n",
    "y_test = y_test.astype(float)"
   ]
  },
  {
   "cell_type": "code",
   "execution_count": 18,
   "metadata": {},
   "outputs": [],
   "source": [
    "#print(X_train)"
   ]
  },
  {
   "cell_type": "markdown",
   "metadata": {},
   "source": [
    "## Dimensionando a escala dos dados"
   ]
  },
  {
   "cell_type": "code",
   "execution_count": 28,
   "metadata": {},
   "outputs": [],
   "source": [
    "from sklearn.preprocessing import StandardScaler\n",
    "\n",
    "scalerX = StandardScaler().fit(X_train)\n",
    "\n",
    "X_train = scalerX.transform(scalerX.transform(X_train))\n",
    "X_test = scalerX.transform(scalerX.transform(X_test))\n"
   ]
  },
  {
   "cell_type": "code",
   "execution_count": 29,
   "metadata": {},
   "outputs": [],
   "source": [
    "from sklearn.tree import DecisionTreeRegressor\n",
    "\n",
    "train = X_train\n",
    "train_labels = y_train\n",
    "test = X_test\n",
    "test_labels = y_test\n"
   ]
  },
  {
   "cell_type": "code",
   "execution_count": 30,
   "metadata": {},
   "outputs": [
    {
     "name": "stdout",
     "output_type": "stream",
     "text": [
      "[6.80625    3.9        6.94090909 ... 4.73333333 4.4        6.43125   ]\n"
     ]
    }
   ],
   "source": [
    "from sklearn.model_selection import cross_val_score\n",
    "\n",
    "decision_tree = DecisionTreeRegressor(random_state = 0)\n",
    "decision_tree.fit(train, train_labels)\n",
    "Y_pred = decision_tree.predict(test)\n",
    "cross_val_score(decision_tree, test, test_labels, cv=10)\n",
    "print(Y_pred)"
   ]
  },
  {
   "cell_type": "code",
   "execution_count": 45,
   "metadata": {},
   "outputs": [
    {
     "data": {
      "text/html": [
       "<div>\n",
       "<style scoped>\n",
       "    .dataframe tbody tr th:only-of-type {\n",
       "        vertical-align: middle;\n",
       "    }\n",
       "\n",
       "    .dataframe tbody tr th {\n",
       "        vertical-align: top;\n",
       "    }\n",
       "\n",
       "    .dataframe thead th {\n",
       "        text-align: right;\n",
       "    }\n",
       "</style>\n",
       "<table border=\"1\" class=\"dataframe\">\n",
       "  <thead>\n",
       "    <tr style=\"text-align: right;\">\n",
       "      <th></th>\n",
       "      <th>pred</th>\n",
       "      <th>actual</th>\n",
       "      <th>difference</th>\n",
       "    </tr>\n",
       "  </thead>\n",
       "  <tbody>\n",
       "    <tr>\n",
       "      <th>19721</th>\n",
       "      <td>6.0</td>\n",
       "      <td>7.0</td>\n",
       "      <td>1.0</td>\n",
       "    </tr>\n",
       "    <tr>\n",
       "      <th>13709</th>\n",
       "      <td>6.8</td>\n",
       "      <td>7.2</td>\n",
       "      <td>0.4</td>\n",
       "    </tr>\n",
       "    <tr>\n",
       "      <th>8893</th>\n",
       "      <td>5.8</td>\n",
       "      <td>6.2</td>\n",
       "      <td>0.4</td>\n",
       "    </tr>\n",
       "    <tr>\n",
       "      <th>23384</th>\n",
       "      <td>6.4</td>\n",
       "      <td>6.6</td>\n",
       "      <td>0.2</td>\n",
       "    </tr>\n",
       "  </tbody>\n",
       "</table>\n",
       "</div>"
      ],
      "text/plain": [
       "       pred  actual  difference\n",
       "19721   6.0     7.0         1.0\n",
       "13709   6.8     7.2         0.4\n",
       "8893    5.8     6.2         0.4\n",
       "23384   6.4     6.6         0.2"
      ]
     },
     "execution_count": 45,
     "metadata": {},
     "output_type": "execute_result"
    }
   ],
   "source": [
    "pred= Y_pred\n",
    "\n",
    "h=pd.DataFrame(pred)\n",
    "h=h.round(1)\n",
    "g=pd.DataFrame(test_labels)\n",
    "g=g.reset_index(drop=True)\n",
    "h['rating']=g\n",
    "h.columns=['pred','actual']\n",
    "h['difference']=round(abs(h.pred-h.actual),2)\n",
    "h = h.dropna()\n",
    "h.sample(4)\n"
   ]
  },
  {
   "cell_type": "code",
   "execution_count": 48,
   "metadata": {},
   "outputs": [
    {
     "name": "stdout",
     "output_type": "stream",
     "text": [
      "Predictions within +/-1.1 star: 13415.000000\n",
      "Total Predictions:              24252.000000\n",
      "Accuracy for Linear Regression: 0.553150\n",
      "\n"
     ]
    }
   ],
   "source": [
    "print(\"Predictions within +/-1.1 star: %f\"%((h.difference<1.1).sum()))\n",
    "print('Total Predictions:              %f'%(h.difference).count())\n",
    "print ('Accuracy for Linear Regression: %f'%(((h.difference<1.1).sum())/(h.difference.count())))\n",
    "print()"
   ]
  },
  {
   "cell_type": "code",
   "execution_count": 49,
   "metadata": {},
   "outputs": [
    {
     "data": {
      "text/plain": [
       "1.1702"
      ]
     },
     "execution_count": 49,
     "metadata": {},
     "output_type": "execute_result"
    }
   ],
   "source": [
    "round(h.difference.mean(),4)"
   ]
  }
 ],
 "metadata": {
  "kernelspec": {
   "display_name": "Python 3",
   "language": "python",
   "name": "python3"
  },
  "language_info": {
   "codemirror_mode": {
    "name": "ipython",
    "version": 3
   },
   "file_extension": ".py",
   "mimetype": "text/x-python",
   "name": "python",
   "nbconvert_exporter": "python",
   "pygments_lexer": "ipython3",
   "version": "3.6.9"
  }
 },
 "nbformat": 4,
 "nbformat_minor": 4
}
