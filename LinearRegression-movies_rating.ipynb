{
 "cells": [
  {
   "cell_type": "code",
   "execution_count": 4,
   "metadata": {},
   "outputs": [],
   "source": [
    "import MySQLdb\n",
    "import os\n",
    "import datetime\n",
    "import pandas as pd\n",
    "import matplotlib.pyplot as plt\n",
    "import seaborn as sns\n",
    "sns.set()"
   ]
  },
  {
   "cell_type": "code",
   "execution_count": 5,
   "metadata": {},
   "outputs": [],
   "source": [
    "con = MySQLdb.connect(host='localhost', user='root',  db='imdb_movies',                          passwd='bazinga73')\n",
    "cur = con.cursor()"
   ]
  },
  {
   "cell_type": "markdown",
   "metadata": {},
   "source": [
    "## Seleção dos Dados"
   ]
  },
  {
   "cell_type": "code",
   "execution_count": 6,
   "metadata": {},
   "outputs": [],
   "source": [
    "# Atores e filmes ao qual atuaram\n",
    "atores = cur.execute(\"select roles.movie_id, concat(actors.first_name, ' ' ,actors.last_name)  from actors inner join roles on roles.actor_id = actors.id order by roles.movie_id;\")\n",
    "atores = pd.DataFrame(cur.fetchall(), columns=['movie_id', 'atores'])\n",
    "atores = atores.groupby('movie_id').agg(lambda x: x.tolist())"
   ]
  },
  {
   "cell_type": "code",
   "execution_count": 7,
   "metadata": {},
   "outputs": [],
   "source": [
    "# Diretores e os filmes produzidos\n",
    "diretores = cur.execute(\"select movies.id, concat(directors.first_name, ' ' ,directors.last_name)  from movies inner join movies_directors mg on mg.movie_id = movies.id inner join directors on mg.director_id = directors.id;\")\n",
    "diretores = pd.DataFrame(cur.fetchall(), columns=['movie_id','diretores'])\n",
    "diretores = diretores.groupby('movie_id').agg(lambda x: x.tolist())"
   ]
  },
  {
   "cell_type": "code",
   "execution_count": 8,
   "metadata": {},
   "outputs": [],
   "source": [
    "# Filmes e os respectivos generos\n",
    "generos = cur.execute(\"SELECT movies.id, movies.year, (SELECT  GROUP_CONCAT(genre SEPARATOR ', ') FROM imdb_movies.movies_genres mvg WHERE mvg.movie_id = movies.id) AS Generos, movies.rank AS Imdb FROM movies where (movies.rank is not null) ORDER BY movies.id;\")\n",
    "generos = pd.DataFrame(cur.fetchall(), columns=['movie_id','ano','genero', 'rating'])\n",
    "generos = generos.groupby('movie_id').agg(lambda x: x.tolist())"
   ]
  },
  {
   "cell_type": "markdown",
   "metadata": {},
   "source": [
    "### Histograma por Gêneros\n",
    "![histograma](https://imgur.com/kvV1GO0.png)\n",
    "&nbsp;&nbsp;&nbsp;&nbsp;&nbsp;######                                     ***Gráfico gerado pelo arquivo de regressão em Decision Tree***\n"
   ]
  },
  {
   "cell_type": "code",
   "execution_count": 9,
   "metadata": {
    "scrolled": true
   },
   "outputs": [
    {
     "data": {
      "text/html": [
       "<div>\n",
       "<style scoped>\n",
       "    .dataframe tbody tr th:only-of-type {\n",
       "        vertical-align: middle;\n",
       "    }\n",
       "\n",
       "    .dataframe tbody tr th {\n",
       "        vertical-align: top;\n",
       "    }\n",
       "\n",
       "    .dataframe thead th {\n",
       "        text-align: right;\n",
       "    }\n",
       "</style>\n",
       "<table border=\"1\" class=\"dataframe\">\n",
       "  <thead>\n",
       "    <tr style=\"text-align: right;\">\n",
       "      <th></th>\n",
       "      <th>ano</th>\n",
       "      <th>genero</th>\n",
       "      <th>rating</th>\n",
       "    </tr>\n",
       "    <tr>\n",
       "      <th>movie_id</th>\n",
       "      <th></th>\n",
       "      <th></th>\n",
       "      <th></th>\n",
       "    </tr>\n",
       "  </thead>\n",
       "  <tbody>\n",
       "    <tr>\n",
       "      <th>2</th>\n",
       "      <td>[1971]</td>\n",
       "      <td>[Comedy, Crime]</td>\n",
       "      <td>[6.4]</td>\n",
       "    </tr>\n",
       "    <tr>\n",
       "      <th>6</th>\n",
       "      <td>[1971]</td>\n",
       "      <td>[Comedy, Family]</td>\n",
       "      <td>[5.0]</td>\n",
       "    </tr>\n",
       "    <tr>\n",
       "      <th>11</th>\n",
       "      <td>[1939]</td>\n",
       "      <td>[Comedy]</td>\n",
       "      <td>[6.7]</td>\n",
       "    </tr>\n",
       "    <tr>\n",
       "      <th>15</th>\n",
       "      <td>[1999]</td>\n",
       "      <td>[Comedy, Short]</td>\n",
       "      <td>[7.5]</td>\n",
       "    </tr>\n",
       "    <tr>\n",
       "      <th>18</th>\n",
       "      <td>[1996]</td>\n",
       "      <td>[Comedy]</td>\n",
       "      <td>[9.6]</td>\n",
       "    </tr>\n",
       "  </tbody>\n",
       "</table>\n",
       "</div>"
      ],
      "text/plain": [
       "             ano            genero rating\n",
       "movie_id                                 \n",
       "2         [1971]   [Comedy, Crime]  [6.4]\n",
       "6         [1971]  [Comedy, Family]  [5.0]\n",
       "11        [1939]          [Comedy]  [6.7]\n",
       "15        [1999]   [Comedy, Short]  [7.5]\n",
       "18        [1996]          [Comedy]  [9.6]"
      ]
     },
     "execution_count": 9,
     "metadata": {},
     "output_type": "execute_result"
    }
   ],
   "source": [
    "generos.head()"
   ]
  },
  {
   "cell_type": "markdown",
   "metadata": {},
   "source": [
    "## Tratamento dos Dados"
   ]
  },
  {
   "cell_type": "code",
   "execution_count": 10,
   "metadata": {},
   "outputs": [],
   "source": [
    "import ast\n",
    "\n",
    "edit = generos['genero'].astype(str)\n",
    "edit = edit.map(lambda x: x.replace(',', '\\',\\'').replace(' ', ''))\n",
    "edit = pd.DataFrame(edit)\n",
    "edit = edit.genero.apply(lambda x: list(ast.literal_eval(x)))\n",
    "\n",
    "all_genders = pd.get_dummies(edit.apply(pd.Series).stack()).sum(level=0)"
   ]
  },
  {
   "cell_type": "markdown",
   "metadata": {},
   "source": [
    "#### Tratando dados Nulos"
   ]
  },
  {
   "cell_type": "code",
   "execution_count": 11,
   "metadata": {},
   "outputs": [],
   "source": [
    "generos = generos.dropna()\n",
    "atores = atores.dropna()\n",
    "diretores = diretores.dropna()"
   ]
  },
  {
   "cell_type": "markdown",
   "metadata": {},
   "source": [
    "### Integrando Informações"
   ]
  },
  {
   "cell_type": "code",
   "execution_count": 12,
   "metadata": {},
   "outputs": [],
   "source": [
    "test = pd.merge(diretores, atores, on='movie_id')\n",
    "test = test.groupby('movie_id').agg(lambda x: x.tolist())\n",
    "test = pd.merge(test, generos, on='movie_id')\n",
    "test = test.groupby('movie_id').agg(lambda x: x.tolist())"
   ]
  },
  {
   "cell_type": "markdown",
   "metadata": {},
   "source": [
    "### Dataframe Geral de Análise"
   ]
  },
  {
   "cell_type": "code",
   "execution_count": 14,
   "metadata": {},
   "outputs": [],
   "source": [
    "movies_scores = test.dropna()\n",
    "aux = movies_scores\n",
    "aux = aux.dropna()\n",
    "\n",
    "dt = aux.drop(['diretores', 'atores', 'genero'], axis = 1)\n"
   ]
  },
  {
   "cell_type": "markdown",
   "metadata": {},
   "source": [
    "### Tratando os Dados de ano e Nota"
   ]
  },
  {
   "cell_type": "code",
   "execution_count": 15,
   "metadata": {},
   "outputs": [],
   "source": [
    "dt.rating = dt.rating.astype(str)\n",
    "dt.ano = dt.ano.astype(str)\n",
    "dt.rating = dt.rating.map(lambda x: x.lstrip('[').rstrip(']'))\n",
    "dt.ano = dt.ano.map(lambda x: x.lstrip('[').rstrip(']'))\n",
    "\n",
    "#dt.reset_index(drop=True)\n",
    "dt = pd.merge(dt, all_genders, on='movie_id')\n",
    "#print(dt)\n"
   ]
  },
  {
   "cell_type": "code",
   "execution_count": 38,
   "metadata": {},
   "outputs": [
    {
     "data": {
      "text/html": [
       "<div>\n",
       "<style scoped>\n",
       "    .dataframe tbody tr th:only-of-type {\n",
       "        vertical-align: middle;\n",
       "    }\n",
       "\n",
       "    .dataframe tbody tr th {\n",
       "        vertical-align: top;\n",
       "    }\n",
       "\n",
       "    .dataframe thead th {\n",
       "        text-align: right;\n",
       "    }\n",
       "</style>\n",
       "<table border=\"1\" class=\"dataframe\">\n",
       "  <thead>\n",
       "    <tr style=\"text-align: right;\">\n",
       "      <th></th>\n",
       "      <th>ano</th>\n",
       "      <th>rating</th>\n",
       "      <th>Action</th>\n",
       "      <th>Adult</th>\n",
       "      <th>Adventure</th>\n",
       "      <th>Animation</th>\n",
       "      <th>Comedy</th>\n",
       "      <th>Crime</th>\n",
       "      <th>Documentary</th>\n",
       "      <th>Drama</th>\n",
       "      <th>...</th>\n",
       "      <th>Horror</th>\n",
       "      <th>Music</th>\n",
       "      <th>Musical</th>\n",
       "      <th>Mystery</th>\n",
       "      <th>Romance</th>\n",
       "      <th>Sci-Fi</th>\n",
       "      <th>Short</th>\n",
       "      <th>Thriller</th>\n",
       "      <th>War</th>\n",
       "      <th>Western</th>\n",
       "    </tr>\n",
       "    <tr>\n",
       "      <th>movie_id</th>\n",
       "      <th></th>\n",
       "      <th></th>\n",
       "      <th></th>\n",
       "      <th></th>\n",
       "      <th></th>\n",
       "      <th></th>\n",
       "      <th></th>\n",
       "      <th></th>\n",
       "      <th></th>\n",
       "      <th></th>\n",
       "      <th></th>\n",
       "      <th></th>\n",
       "      <th></th>\n",
       "      <th></th>\n",
       "      <th></th>\n",
       "      <th></th>\n",
       "      <th></th>\n",
       "      <th></th>\n",
       "      <th></th>\n",
       "      <th></th>\n",
       "      <th></th>\n",
       "    </tr>\n",
       "  </thead>\n",
       "  <tbody>\n",
       "    <tr>\n",
       "      <th>2</th>\n",
       "      <td>1971</td>\n",
       "      <td>6.4</td>\n",
       "      <td>0</td>\n",
       "      <td>0</td>\n",
       "      <td>0</td>\n",
       "      <td>0</td>\n",
       "      <td>1</td>\n",
       "      <td>1</td>\n",
       "      <td>0</td>\n",
       "      <td>0</td>\n",
       "      <td>...</td>\n",
       "      <td>0</td>\n",
       "      <td>0</td>\n",
       "      <td>0</td>\n",
       "      <td>0</td>\n",
       "      <td>0</td>\n",
       "      <td>0</td>\n",
       "      <td>0</td>\n",
       "      <td>0</td>\n",
       "      <td>0</td>\n",
       "      <td>0</td>\n",
       "    </tr>\n",
       "    <tr>\n",
       "      <th>6</th>\n",
       "      <td>1971</td>\n",
       "      <td>5.0</td>\n",
       "      <td>0</td>\n",
       "      <td>0</td>\n",
       "      <td>0</td>\n",
       "      <td>0</td>\n",
       "      <td>1</td>\n",
       "      <td>0</td>\n",
       "      <td>0</td>\n",
       "      <td>0</td>\n",
       "      <td>...</td>\n",
       "      <td>0</td>\n",
       "      <td>0</td>\n",
       "      <td>0</td>\n",
       "      <td>0</td>\n",
       "      <td>0</td>\n",
       "      <td>0</td>\n",
       "      <td>0</td>\n",
       "      <td>0</td>\n",
       "      <td>0</td>\n",
       "      <td>0</td>\n",
       "    </tr>\n",
       "    <tr>\n",
       "      <th>11</th>\n",
       "      <td>1939</td>\n",
       "      <td>6.7</td>\n",
       "      <td>0</td>\n",
       "      <td>0</td>\n",
       "      <td>0</td>\n",
       "      <td>0</td>\n",
       "      <td>1</td>\n",
       "      <td>0</td>\n",
       "      <td>0</td>\n",
       "      <td>0</td>\n",
       "      <td>...</td>\n",
       "      <td>0</td>\n",
       "      <td>0</td>\n",
       "      <td>0</td>\n",
       "      <td>0</td>\n",
       "      <td>0</td>\n",
       "      <td>0</td>\n",
       "      <td>0</td>\n",
       "      <td>0</td>\n",
       "      <td>0</td>\n",
       "      <td>0</td>\n",
       "    </tr>\n",
       "    <tr>\n",
       "      <th>15</th>\n",
       "      <td>1999</td>\n",
       "      <td>7.5</td>\n",
       "      <td>0</td>\n",
       "      <td>0</td>\n",
       "      <td>0</td>\n",
       "      <td>0</td>\n",
       "      <td>1</td>\n",
       "      <td>0</td>\n",
       "      <td>0</td>\n",
       "      <td>0</td>\n",
       "      <td>...</td>\n",
       "      <td>0</td>\n",
       "      <td>0</td>\n",
       "      <td>0</td>\n",
       "      <td>0</td>\n",
       "      <td>0</td>\n",
       "      <td>0</td>\n",
       "      <td>1</td>\n",
       "      <td>0</td>\n",
       "      <td>0</td>\n",
       "      <td>0</td>\n",
       "    </tr>\n",
       "    <tr>\n",
       "      <th>18</th>\n",
       "      <td>1996</td>\n",
       "      <td>9.6</td>\n",
       "      <td>0</td>\n",
       "      <td>0</td>\n",
       "      <td>0</td>\n",
       "      <td>0</td>\n",
       "      <td>1</td>\n",
       "      <td>0</td>\n",
       "      <td>0</td>\n",
       "      <td>0</td>\n",
       "      <td>...</td>\n",
       "      <td>0</td>\n",
       "      <td>0</td>\n",
       "      <td>0</td>\n",
       "      <td>0</td>\n",
       "      <td>0</td>\n",
       "      <td>0</td>\n",
       "      <td>0</td>\n",
       "      <td>0</td>\n",
       "      <td>0</td>\n",
       "      <td>0</td>\n",
       "    </tr>\n",
       "  </tbody>\n",
       "</table>\n",
       "<p>5 rows × 23 columns</p>\n",
       "</div>"
      ],
      "text/plain": [
       "           ano rating  Action  Adult  Adventure  Animation  Comedy  Crime  \\\n",
       "movie_id                                                                    \n",
       "2         1971    6.4       0      0          0          0       1      1   \n",
       "6         1971    5.0       0      0          0          0       1      0   \n",
       "11        1939    6.7       0      0          0          0       1      0   \n",
       "15        1999    7.5       0      0          0          0       1      0   \n",
       "18        1996    9.6       0      0          0          0       1      0   \n",
       "\n",
       "          Documentary  Drama  ...  Horror  Music  Musical  Mystery  Romance  \\\n",
       "movie_id                      ...                                             \n",
       "2                   0      0  ...       0      0        0        0        0   \n",
       "6                   0      0  ...       0      0        0        0        0   \n",
       "11                  0      0  ...       0      0        0        0        0   \n",
       "15                  0      0  ...       0      0        0        0        0   \n",
       "18                  0      0  ...       0      0        0        0        0   \n",
       "\n",
       "          Sci-Fi  Short  Thriller  War  Western  \n",
       "movie_id                                         \n",
       "2              0      0         0    0        0  \n",
       "6              0      0         0    0        0  \n",
       "11             0      0         0    0        0  \n",
       "15             0      1         0    0        0  \n",
       "18             0      0         0    0        0  \n",
       "\n",
       "[5 rows x 23 columns]"
      ]
     },
     "execution_count": 38,
     "metadata": {},
     "output_type": "execute_result"
    }
   ],
   "source": [
    "dt.head()"
   ]
  },
  {
   "cell_type": "markdown",
   "metadata": {},
   "source": [
    "### Definindo Variáveis"
   ]
  },
  {
   "cell_type": "code",
   "execution_count": 16,
   "metadata": {},
   "outputs": [],
   "source": [
    "movies_scores = dt\n",
    "\n",
    "x = movies_scores.drop(['rating'], axis=1)\n",
    "y = movies_scores.rating\n",
    "\n",
    "new_x = x.reset_index(drop=True)\n",
    "new_y = y.reset_index(drop=True)\n",
    "\n",
    "new_x = new_x.astype(float)\n",
    "new_y = new_y.astype(float)"
   ]
  },
  {
   "cell_type": "markdown",
   "metadata": {},
   "source": [
    "## Separando em treino e teste"
   ]
  },
  {
   "cell_type": "code",
   "execution_count": 17,
   "metadata": {},
   "outputs": [
    {
     "name": "stdout",
     "output_type": "stream",
     "text": [
      "(33474, 22)\n",
      "(33474,)\n",
      "(22316, 22)\n",
      "(22316,)\n"
     ]
    }
   ],
   "source": [
    "from sklearn.model_selection import train_test_split\n",
    "X_train,X_test,y_train,y_test=train_test_split(new_x,new_y,random_state=0,test_size=0.40)\n",
    "print (X_train.shape) \n",
    "print (y_train.shape)\n",
    "print (X_test.shape) \n",
    "print (y_test.shape)\n",
    "\n",
    "y_test = y_test.values.reshape(-1,1)\n",
    "y_train = y_train.values.reshape(-1,1)"
   ]
  },
  {
   "cell_type": "markdown",
   "metadata": {},
   "source": [
    "## Escalonando os Dados"
   ]
  },
  {
   "cell_type": "code",
   "execution_count": 18,
   "metadata": {},
   "outputs": [],
   "source": [
    "## Escalonando os dados em X (gênero e nota)\n",
    "from sklearn.preprocessing import StandardScaler\n",
    "\n",
    "scalerX = StandardScaler().fit(X_train)\n",
    "\n",
    "X_train = scalerX.transform(scalerX.transform(X_train))\n",
    "X_test = scalerX.transform(scalerX.transform(X_test))"
   ]
  },
  {
   "cell_type": "markdown",
   "metadata": {},
   "source": [
    "## Gerando Modelo"
   ]
  },
  {
   "cell_type": "code",
   "execution_count": 19,
   "metadata": {},
   "outputs": [
    {
     "name": "stdout",
     "output_type": "stream",
     "text": [
      "                                 OLS Regression Results                                \n",
      "=======================================================================================\n",
      "Dep. Variable:                      y   R-squared (uncentered):                   0.941\n",
      "Model:                            OLS   Adj. R-squared (uncentered):              0.941\n",
      "Method:                 Least Squares   F-statistic:                          2.550e+04\n",
      "Date:                Tue, 18 May 2021   Prob (F-statistic):                        0.00\n",
      "Time:                        07:57:16   Log-Likelihood:                         -60445.\n",
      "No. Observations:               33474   AIC:                                  1.209e+05\n",
      "Df Residuals:                   33453   BIC:                                  1.211e+05\n",
      "Df Model:                          21                                                  \n",
      "Covariance Type:            nonrobust                                                  \n",
      "==============================================================================\n",
      "                 coef    std err          t      P>|t|      [0.025      0.975]\n",
      "------------------------------------------------------------------------------\n",
      "x1            -0.0710      0.000   -547.988      0.000      -0.071      -0.071\n",
      "x2            -0.0334      0.003    -13.311      0.000      -0.038      -0.028\n",
      "const         1.1e-16   4.82e-18     22.831      0.000    1.01e-16    1.19e-16\n",
      "x3            -0.0007      0.002     -0.326      0.745      -0.005       0.003\n",
      "x4             0.0184      0.002      8.233      0.000       0.014       0.023\n",
      "x5             0.0333      0.005      7.375      0.000       0.024       0.042\n",
      "x6             0.0047      0.002      2.069      0.039       0.000       0.009\n",
      "x7             0.0434      0.002     23.381      0.000       0.040       0.047\n",
      "x8             0.1484      0.005     30.092      0.000       0.139       0.158\n",
      "x9             0.0051      0.002      2.102      0.036       0.000       0.010\n",
      "x10            0.0054      0.001      3.721      0.000       0.003       0.008\n",
      "x11            0.0051      0.001      7.438      0.000       0.004       0.006\n",
      "x12           -0.0513      0.002    -23.502      0.000      -0.056      -0.047\n",
      "x13            0.0031      0.001      3.511      0.000       0.001       0.005\n",
      "x14            0.0082      0.002      5.076      0.000       0.005       0.011\n",
      "x15            0.0135      0.001      9.116      0.000       0.011       0.016\n",
      "x16            0.0227      0.002      9.490      0.000       0.018       0.027\n",
      "x17           -0.0161      0.002     -9.676      0.000      -0.019      -0.013\n",
      "x18            0.0858      0.003     28.047      0.000       0.080       0.092\n",
      "x19            0.0008      0.003      0.338      0.736      -0.004       0.006\n",
      "x20            0.0140      0.001      9.977      0.000       0.011       0.017\n",
      "x21            0.0050      0.002      2.971      0.003       0.002       0.008\n",
      "==============================================================================\n",
      "Omnibus:                      609.959   Durbin-Watson:                   2.003\n",
      "Prob(Omnibus):                  0.000   Jarque-Bera (JB):              673.498\n",
      "Skew:                          -0.303   Prob(JB):                    5.65e-147\n",
      "Kurtosis:                       3.339   Cond. No.                     2.12e+17\n",
      "==============================================================================\n",
      "\n",
      "Notes:\n",
      "[1] R² is computed without centering (uncentered) since the model does not contain a constant.\n",
      "[2] Standard Errors assume that the covariance matrix of the errors is correctly specified.\n",
      "[3] The smallest eigenvalue is 5.41e-27. This might indicate that there are\n",
      "strong multicollinearity problems or that the design matrix is singular.\n"
     ]
    }
   ],
   "source": [
    "import statsmodels.api as sm\n",
    "\n",
    "model=sm.OLS(y_train,X_train)\n",
    "results=model.fit()\n",
    "print (results.summary())"
   ]
  },
  {
   "cell_type": "markdown",
   "metadata": {},
   "source": [
    "## Preditos x Reais"
   ]
  },
  {
   "cell_type": "code",
   "execution_count": 26,
   "metadata": {
    "scrolled": true
   },
   "outputs": [
    {
     "data": {
      "text/html": [
       "<div>\n",
       "<style scoped>\n",
       "    .dataframe tbody tr th:only-of-type {\n",
       "        vertical-align: middle;\n",
       "    }\n",
       "\n",
       "    .dataframe tbody tr th {\n",
       "        vertical-align: top;\n",
       "    }\n",
       "\n",
       "    .dataframe thead th {\n",
       "        text-align: right;\n",
       "    }\n",
       "</style>\n",
       "<table border=\"1\" class=\"dataframe\">\n",
       "  <thead>\n",
       "    <tr style=\"text-align: right;\">\n",
       "      <th></th>\n",
       "      <th>pred</th>\n",
       "      <th>actual</th>\n",
       "      <th>difference</th>\n",
       "    </tr>\n",
       "  </thead>\n",
       "  <tbody>\n",
       "    <tr>\n",
       "      <th>15539</th>\n",
       "      <td>5.5</td>\n",
       "      <td>5.3</td>\n",
       "      <td>0.2</td>\n",
       "    </tr>\n",
       "    <tr>\n",
       "      <th>9487</th>\n",
       "      <td>6.0</td>\n",
       "      <td>6.0</td>\n",
       "      <td>0.0</td>\n",
       "    </tr>\n",
       "    <tr>\n",
       "      <th>4860</th>\n",
       "      <td>5.8</td>\n",
       "      <td>5.3</td>\n",
       "      <td>0.5</td>\n",
       "    </tr>\n",
       "    <tr>\n",
       "      <th>14613</th>\n",
       "      <td>6.4</td>\n",
       "      <td>6.2</td>\n",
       "      <td>0.2</td>\n",
       "    </tr>\n",
       "  </tbody>\n",
       "</table>\n",
       "</div>"
      ],
      "text/plain": [
       "       pred  actual  difference\n",
       "15539   5.5     5.3         0.2\n",
       "9487    6.0     6.0         0.0\n",
       "4860    5.8     5.3         0.5\n",
       "14613   6.4     6.2         0.2"
      ]
     },
     "execution_count": 26,
     "metadata": {},
     "output_type": "execute_result"
    }
   ],
   "source": [
    "pred=results.predict(X_test)\n",
    "\n",
    "h=pd.DataFrame(pred)\n",
    "h=h.round(1)\n",
    "g=pd.DataFrame(y_test)\n",
    "g=g.reset_index(drop=True)\n",
    "h['rating']=g\n",
    "h.columns=['pred','actual']\n",
    "h['difference']=round(abs(h.pred-h.actual),2)\n",
    "h = h.dropna()\n",
    "h.sample(4)"
   ]
  },
  {
   "cell_type": "markdown",
   "metadata": {},
   "source": [
    "#### Média Diferença geral"
   ]
  },
  {
   "cell_type": "code",
   "execution_count": 21,
   "metadata": {},
   "outputs": [
    {
     "data": {
      "text/plain": [
       "1.1494"
      ]
     },
     "execution_count": 21,
     "metadata": {},
     "output_type": "execute_result"
    }
   ],
   "source": [
    "round(h.difference.mean(),4)"
   ]
  },
  {
   "cell_type": "markdown",
   "metadata": {},
   "source": [
    "#### Relatório Acurácia"
   ]
  },
  {
   "cell_type": "code",
   "execution_count": 22,
   "metadata": {},
   "outputs": [
    {
     "name": "stdout",
     "output_type": "stream",
     "text": [
      "Predictions within +/-1.0 star: 12149.000000\n",
      "Total Predictions:              22316.000000\n",
      "Accuracy for Linear Regression: 0.544408\n"
     ]
    }
   ],
   "source": [
    "print(\"Predictions within +/-1.0 star: %f\"%((h.difference<1.1).sum()))\n",
    "print('Total Predictions:              %f'%(h.difference).count())\n",
    "print ('Accuracy for Linear Regression: %f'%(((h.difference<1.1).sum())/(h.difference.count())))"
   ]
  },
  {
   "cell_type": "markdown",
   "metadata": {},
   "source": [
    "### Gráficos"
   ]
  },
  {
   "cell_type": "code",
   "execution_count": 23,
   "metadata": {},
   "outputs": [
    {
     "data": {
      "text/plain": [
       "Text(0.5, 1.0, 'Difference')"
      ]
     },
     "execution_count": 23,
     "metadata": {},
     "output_type": "execute_result"
    },
    {
     "data": {
      "image/png": "[encoded data removed]",
      "text/plain": [
       "<Figure size 1008x864 with 1 Axes>"
      ]
     },
     "metadata": {},
     "output_type": "display_data"
    }
   ],
   "source": [
    "plt.figure(figsize=(14,12))\n",
    "plt.hist(h.difference,bins=12)\n",
    "plt.xlim(0.5,)\n",
    "plt.title(\"Diff\")"
   ]
  }
 ],
 "metadata": {
  "kernelspec": {
   "display_name": "Python 3",
   "language": "python",
   "name": "python3"
  },
  "language_info": {
   "codemirror_mode": {
    "name": "ipython",
    "version": 3
   },
   "file_extension": ".py",
   "mimetype": "text/x-python",
   "name": "python",
   "nbconvert_exporter": "python",
   "pygments_lexer": "ipython3",
   "version": "3.6.9"
  }
 },
 "nbformat": 4,
 "nbformat_minor": 4
}
